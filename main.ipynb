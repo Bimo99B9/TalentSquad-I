{
 "cells": [
  {
   "cell_type": "markdown",
   "metadata": {},
   "source": [
    "# Talent Squad I"
   ]
  },
  {
   "cell_type": "markdown",
   "metadata": {},
   "source": [
    "Primero se importan las librerías necesarias."
   ]
  },
  {
   "cell_type": "code",
   "execution_count": 65,
   "metadata": {},
   "outputs": [],
   "source": [
    "import pandas as pd\n",
    "import seaborn as sns\n",
    "import matplotlib.pyplot as plt\n",
    "from sklearn.svm import LinearSVC\n",
    "from sklearn.model_selection import train_test_split\n",
    "from sklearn.model_selection import cross_val_score\n",
    "from sklearn.model_selection import GridSearchCV, StratifiedKFold\n",
    "from sklearn import metrics\n",
    "from sklearn.tree import DecisionTreeClassifier\n",
    "from sklearn.model_selection import train_test_split\n",
    "import numpy as np\n",
    "from sklearn.naive_bayes import GaussianNB\n",
    "from sklearn.ensemble import RandomForestClassifier, AdaBoostClassifier\n",
    "from sklearn.linear_model import LogisticRegression\n",
    "from sklearn.model_selection import train_test_split\n",
    "from sklearn.multiclass import OneVsOneClassifier, OneVsRestClassifier\n",
    "from sklearn.naive_bayes import GaussianNB\n",
    "from sklearn.neighbors import KNeighborsClassifier\n",
    "from sklearn.svm import SVC\n",
    "from sklearn.tree import DecisionTreeClassifier"
   ]
  },
  {
   "cell_type": "markdown",
   "metadata": {},
   "source": [
    "Tenemos información sobre los parámetros medidos de los diferentes sensores de cohetes. Se pretende predecir el estado del cohete en función de las mediciones de los sensores.\n",
    "\n",
    "- Target 0 corresponde a **Estable**\n",
    "- Target 1 corresponde a **Turbulencia Ligera**\n",
    "- Target 2 corresponde a **Turbulencia Moderada**\n",
    "- Target 3 corresponde a **Turbulencia Severa**\n",
    "- Target 4 corresponde a **Turbulencia Extrema**"
   ]
  },
  {
   "cell_type": "code",
   "execution_count": 66,
   "metadata": {},
   "outputs": [
    {
     "data": {
      "text/html": [
       "<div>\n",
       "<style scoped>\n",
       "    .dataframe tbody tr th:only-of-type {\n",
       "        vertical-align: middle;\n",
       "    }\n",
       "\n",
       "    .dataframe tbody tr th {\n",
       "        vertical-align: top;\n",
       "    }\n",
       "\n",
       "    .dataframe thead th {\n",
       "        text-align: right;\n",
       "    }\n",
       "</style>\n",
       "<table border=\"1\" class=\"dataframe\">\n",
       "  <thead>\n",
       "    <tr style=\"text-align: right;\">\n",
       "      <th></th>\n",
       "      <th>sensor_1</th>\n",
       "      <th>sensor_2</th>\n",
       "      <th>sensor_3</th>\n",
       "      <th>sensor_4</th>\n",
       "      <th>sensor_5</th>\n",
       "      <th>sensor_6</th>\n",
       "      <th>target</th>\n",
       "    </tr>\n",
       "  </thead>\n",
       "  <tbody>\n",
       "    <tr>\n",
       "      <th>0</th>\n",
       "      <td>0.474335</td>\n",
       "      <td>0.881640</td>\n",
       "      <td>-2.050543</td>\n",
       "      <td>-1.251935</td>\n",
       "      <td>-1.035151</td>\n",
       "      <td>-1.934367</td>\n",
       "      <td>4</td>\n",
       "    </tr>\n",
       "    <tr>\n",
       "      <th>1</th>\n",
       "      <td>-1.034675</td>\n",
       "      <td>1.741801</td>\n",
       "      <td>-1.660629</td>\n",
       "      <td>-1.555989</td>\n",
       "      <td>-0.337553</td>\n",
       "      <td>-2.473838</td>\n",
       "      <td>0</td>\n",
       "    </tr>\n",
       "    <tr>\n",
       "      <th>2</th>\n",
       "      <td>-0.563221</td>\n",
       "      <td>-0.688381</td>\n",
       "      <td>-0.318415</td>\n",
       "      <td>-1.845172</td>\n",
       "      <td>0.352366</td>\n",
       "      <td>-0.912928</td>\n",
       "      <td>1</td>\n",
       "    </tr>\n",
       "    <tr>\n",
       "      <th>3</th>\n",
       "      <td>-1.268179</td>\n",
       "      <td>2.770688</td>\n",
       "      <td>1.054193</td>\n",
       "      <td>2.830389</td>\n",
       "      <td>0.395093</td>\n",
       "      <td>0.677715</td>\n",
       "      <td>3</td>\n",
       "    </tr>\n",
       "    <tr>\n",
       "      <th>4</th>\n",
       "      <td>-1.216380</td>\n",
       "      <td>-0.391267</td>\n",
       "      <td>-2.898931</td>\n",
       "      <td>-0.913074</td>\n",
       "      <td>-2.171857</td>\n",
       "      <td>-2.367490</td>\n",
       "      <td>0</td>\n",
       "    </tr>\n",
       "  </tbody>\n",
       "</table>\n",
       "</div>"
      ],
      "text/plain": [
       "   sensor_1  sensor_2  sensor_3  sensor_4  sensor_5  sensor_6  target\n",
       "0  0.474335  0.881640 -2.050543 -1.251935 -1.035151 -1.934367       4\n",
       "1 -1.034675  1.741801 -1.660629 -1.555989 -0.337553 -2.473838       0\n",
       "2 -0.563221 -0.688381 -0.318415 -1.845172  0.352366 -0.912928       1\n",
       "3 -1.268179  2.770688  1.054193  2.830389  0.395093  0.677715       3\n",
       "4 -1.216380 -0.391267 -2.898931 -0.913074 -2.171857 -2.367490       0"
      ]
     },
     "metadata": {},
     "output_type": "display_data"
    },
    {
     "data": {
      "text/html": [
       "<div>\n",
       "<style scoped>\n",
       "    .dataframe tbody tr th:only-of-type {\n",
       "        vertical-align: middle;\n",
       "    }\n",
       "\n",
       "    .dataframe tbody tr th {\n",
       "        vertical-align: top;\n",
       "    }\n",
       "\n",
       "    .dataframe thead th {\n",
       "        text-align: right;\n",
       "    }\n",
       "</style>\n",
       "<table border=\"1\" class=\"dataframe\">\n",
       "  <thead>\n",
       "    <tr style=\"text-align: right;\">\n",
       "      <th></th>\n",
       "      <th>sensor_1</th>\n",
       "      <th>sensor_2</th>\n",
       "      <th>sensor_3</th>\n",
       "      <th>sensor_4</th>\n",
       "      <th>sensor_5</th>\n",
       "      <th>sensor_6</th>\n",
       "    </tr>\n",
       "  </thead>\n",
       "  <tbody>\n",
       "    <tr>\n",
       "      <th>0</th>\n",
       "      <td>0.943723</td>\n",
       "      <td>-2.985473</td>\n",
       "      <td>-0.938218</td>\n",
       "      <td>3.580261</td>\n",
       "      <td>-3.038106</td>\n",
       "      <td>2.080338</td>\n",
       "    </tr>\n",
       "    <tr>\n",
       "      <th>1</th>\n",
       "      <td>-0.899819</td>\n",
       "      <td>1.295568</td>\n",
       "      <td>1.274513</td>\n",
       "      <td>0.718186</td>\n",
       "      <td>1.117035</td>\n",
       "      <td>0.463068</td>\n",
       "    </tr>\n",
       "    <tr>\n",
       "      <th>2</th>\n",
       "      <td>0.293281</td>\n",
       "      <td>-0.099317</td>\n",
       "      <td>1.874902</td>\n",
       "      <td>-0.589582</td>\n",
       "      <td>1.828441</td>\n",
       "      <td>1.011596</td>\n",
       "    </tr>\n",
       "    <tr>\n",
       "      <th>3</th>\n",
       "      <td>-1.134804</td>\n",
       "      <td>0.888585</td>\n",
       "      <td>-1.464499</td>\n",
       "      <td>-1.183056</td>\n",
       "      <td>-0.525729</td>\n",
       "      <td>-1.963822</td>\n",
       "    </tr>\n",
       "    <tr>\n",
       "      <th>4</th>\n",
       "      <td>-0.909240</td>\n",
       "      <td>1.575797</td>\n",
       "      <td>0.697212</td>\n",
       "      <td>1.197092</td>\n",
       "      <td>0.486185</td>\n",
       "      <td>0.222644</td>\n",
       "    </tr>\n",
       "  </tbody>\n",
       "</table>\n",
       "</div>"
      ],
      "text/plain": [
       "   sensor_1  sensor_2  sensor_3  sensor_4  sensor_5  sensor_6\n",
       "0  0.943723 -2.985473 -0.938218  3.580261 -3.038106  2.080338\n",
       "1 -0.899819  1.295568  1.274513  0.718186  1.117035  0.463068\n",
       "2  0.293281 -0.099317  1.874902 -0.589582  1.828441  1.011596\n",
       "3 -1.134804  0.888585 -1.464499 -1.183056 -0.525729 -1.963822\n",
       "4 -0.909240  1.575797  0.697212  1.197092  0.486185  0.222644"
      ]
     },
     "metadata": {},
     "output_type": "display_data"
    }
   ],
   "source": [
    "df_train = pd.read_csv(\"space_X_train.csv\")\n",
    "df_test = pd.read_csv(\"space_X_test.csv\")\n",
    "df_train.drop(\"Unnamed: 0\", axis=1, inplace=True)\n",
    "df_test.drop(\"Unnamed: 0\", axis=1, inplace=True)\n",
    "\n",
    "display(df_train.head(5))\n",
    "display(df_test.head(5))"
   ]
  },
  {
   "cell_type": "markdown",
   "metadata": {},
   "source": [
    "En un primer análisis de los datos, comprobamos que se mueven en el mismo rango, de menor a mayor, con el sensor 2 ligeramente superior siempre.\n",
    "\n",
    "En el análisis de correlaciones se observa que la medición del primer sensor es la más correlacionada con la clase."
   ]
  },
  {
   "cell_type": "code",
   "execution_count": 67,
   "metadata": {},
   "outputs": [
    {
     "data": {
      "text/html": [
       "<div>\n",
       "<style scoped>\n",
       "    .dataframe tbody tr th:only-of-type {\n",
       "        vertical-align: middle;\n",
       "    }\n",
       "\n",
       "    .dataframe tbody tr th {\n",
       "        vertical-align: top;\n",
       "    }\n",
       "\n",
       "    .dataframe thead th {\n",
       "        text-align: right;\n",
       "    }\n",
       "</style>\n",
       "<table border=\"1\" class=\"dataframe\">\n",
       "  <thead>\n",
       "    <tr style=\"text-align: right;\">\n",
       "      <th></th>\n",
       "      <th>sensor_1</th>\n",
       "      <th>sensor_2</th>\n",
       "      <th>sensor_3</th>\n",
       "      <th>sensor_4</th>\n",
       "      <th>sensor_5</th>\n",
       "      <th>sensor_6</th>\n",
       "      <th>target</th>\n",
       "    </tr>\n",
       "  </thead>\n",
       "  <tbody>\n",
       "    <tr>\n",
       "      <th>count</th>\n",
       "      <td>2100.000000</td>\n",
       "      <td>2100.000000</td>\n",
       "      <td>2100.000000</td>\n",
       "      <td>2100.000000</td>\n",
       "      <td>2100.000000</td>\n",
       "      <td>2100.000000</td>\n",
       "      <td>2100.000000</td>\n",
       "    </tr>\n",
       "    <tr>\n",
       "      <th>mean</th>\n",
       "      <td>-0.204656</td>\n",
       "      <td>0.199249</td>\n",
       "      <td>-0.378140</td>\n",
       "      <td>-0.206425</td>\n",
       "      <td>-0.186419</td>\n",
       "      <td>-0.433229</td>\n",
       "      <td>1.980476</td>\n",
       "    </tr>\n",
       "    <tr>\n",
       "      <th>std</th>\n",
       "      <td>1.543613</td>\n",
       "      <td>1.614024</td>\n",
       "      <td>1.450548</td>\n",
       "      <td>1.442225</td>\n",
       "      <td>1.501573</td>\n",
       "      <td>1.188791</td>\n",
       "      <td>1.410537</td>\n",
       "    </tr>\n",
       "    <tr>\n",
       "      <th>min</th>\n",
       "      <td>-6.683655</td>\n",
       "      <td>-5.383371</td>\n",
       "      <td>-6.147055</td>\n",
       "      <td>-5.653594</td>\n",
       "      <td>-5.912521</td>\n",
       "      <td>-4.433189</td>\n",
       "      <td>0.000000</td>\n",
       "    </tr>\n",
       "    <tr>\n",
       "      <th>25%</th>\n",
       "      <td>-1.171340</td>\n",
       "      <td>-0.877386</td>\n",
       "      <td>-1.365990</td>\n",
       "      <td>-1.259403</td>\n",
       "      <td>-1.211685</td>\n",
       "      <td>-1.131944</td>\n",
       "      <td>1.000000</td>\n",
       "    </tr>\n",
       "    <tr>\n",
       "      <th>50%</th>\n",
       "      <td>-0.443868</td>\n",
       "      <td>0.320507</td>\n",
       "      <td>-0.439745</td>\n",
       "      <td>-0.176504</td>\n",
       "      <td>-0.195751</td>\n",
       "      <td>-0.406754</td>\n",
       "      <td>2.000000</td>\n",
       "    </tr>\n",
       "    <tr>\n",
       "      <th>75%</th>\n",
       "      <td>0.890023</td>\n",
       "      <td>1.321430</td>\n",
       "      <td>0.662898</td>\n",
       "      <td>0.866879</td>\n",
       "      <td>0.851843</td>\n",
       "      <td>0.348593</td>\n",
       "      <td>3.000000</td>\n",
       "    </tr>\n",
       "    <tr>\n",
       "      <th>max</th>\n",
       "      <td>4.565547</td>\n",
       "      <td>6.700133</td>\n",
       "      <td>4.157518</td>\n",
       "      <td>4.371912</td>\n",
       "      <td>5.068783</td>\n",
       "      <td>4.016324</td>\n",
       "      <td>4.000000</td>\n",
       "    </tr>\n",
       "  </tbody>\n",
       "</table>\n",
       "</div>"
      ],
      "text/plain": [
       "          sensor_1     sensor_2     sensor_3     sensor_4     sensor_5  \\\n",
       "count  2100.000000  2100.000000  2100.000000  2100.000000  2100.000000   \n",
       "mean     -0.204656     0.199249    -0.378140    -0.206425    -0.186419   \n",
       "std       1.543613     1.614024     1.450548     1.442225     1.501573   \n",
       "min      -6.683655    -5.383371    -6.147055    -5.653594    -5.912521   \n",
       "25%      -1.171340    -0.877386    -1.365990    -1.259403    -1.211685   \n",
       "50%      -0.443868     0.320507    -0.439745    -0.176504    -0.195751   \n",
       "75%       0.890023     1.321430     0.662898     0.866879     0.851843   \n",
       "max       4.565547     6.700133     4.157518     4.371912     5.068783   \n",
       "\n",
       "          sensor_6       target  \n",
       "count  2100.000000  2100.000000  \n",
       "mean     -0.433229     1.980476  \n",
       "std       1.188791     1.410537  \n",
       "min      -4.433189     0.000000  \n",
       "25%      -1.131944     1.000000  \n",
       "50%      -0.406754     2.000000  \n",
       "75%       0.348593     3.000000  \n",
       "max       4.016324     4.000000  "
      ]
     },
     "metadata": {},
     "output_type": "display_data"
    },
    {
     "data": {
      "image/png": "[encoded data removed]",
      "text/plain": [
       "<Figure size 640x480 with 2 Axes>"
      ]
     },
     "metadata": {},
     "output_type": "display_data"
    }
   ],
   "source": [
    "display(df_train.describe())\n",
    "\n",
    "matrix = df_train.corr().round(2)\n",
    "sns.heatmap(matrix, annot=True)\n",
    "plt.show()"
   ]
  },
  {
   "cell_type": "markdown",
   "metadata": {},
   "source": [
    "Separamos los datos y definimos las clases."
   ]
  },
  {
   "cell_type": "code",
   "execution_count": 68,
   "metadata": {},
   "outputs": [],
   "source": [
    "(rows, columns) = df_train.shape\n",
    "X = df_train.iloc[:, 0:(columns - 1)]\n",
    "y = df_train.iloc[:, (columns-1)]\n",
    "\n",
    "X_train, X_test, y_train, y_test = train_test_split(X, y, test_size = 0.2, random_state=9949)\n",
    "\n",
    "class_names = [\"0\", \"1\", \"2\", \"3\", \"4\"]"
   ]
  },
  {
   "cell_type": "markdown",
   "metadata": {},
   "source": [
    "A continuación se hace un entrenamiento y evaluación de los principales sistemas de multi-clasificación, con el objetivo de encontrar el que mejor se comporta para este problema y proceder después a una búsqueda de hiperparámetros."
   ]
  },
  {
   "cell_type": "code",
   "execution_count": 69,
   "metadata": {},
   "outputs": [],
   "source": [
    "def entrena_y_evalua(X_train, X_test, y_train, y_test, sistema):\n",
    "    if sistema == \"KNeighborsClassifier\":\n",
    "        sys = KNeighborsClassifier()\n",
    "    elif sistema == \"GaussianNB\":\n",
    "        sys = GaussianNB()\n",
    "    elif sistema == \"DecisionTreeClassifier\":\n",
    "        sys = DecisionTreeClassifier(random_state=1234)\n",
    "    elif sistema == \"RandomForestClassifier\":\n",
    "        sys = RandomForestClassifier(random_state=1234, n_jobs=-1)\n",
    "    elif sistema == \"AdaBoostClassifier\":\n",
    "        sys = AdaBoostClassifier(random_state=1234)\n",
    "    elif sistema == \"SVC\":\n",
    "        sys = SVC(max_iter=100000)\n",
    "    elif sistema == \"LinearSVC\":\n",
    "        sys = LinearSVC(max_iter=1000000)\n",
    "    elif sistema == \"LogisticRegression\":\n",
    "        sys = LogisticRegression(max_iter=100000)\n",
    "    elif sistema == \"ovo(rl)\":\n",
    "        sys = OneVsOneClassifier(LogisticRegression(max_iter=100000))\n",
    "    elif sistema == \"ovo(svc)\":\n",
    "        sys = OneVsOneClassifier(SVC(max_iter=1000000))\n",
    "    elif sistema == \"ovr(rl)\":\n",
    "        sys = OneVsRestClassifier(LogisticRegression(max_iter=1000000))\n",
    "    elif sistema == \"ovr(svc)\":\n",
    "        sys = OneVsRestClassifier(SVC(max_iter=1000000))\n",
    "    else:\n",
    "        print(\"Sistema no reconocido\")\n",
    "        exit()\n",
    "\n",
    "    model = sys.fit(X_train, y_train)\n",
    "    y_pred = model.predict(X_test)\n",
    "\n",
    "    resultados = metrics.classification_report(\n",
    "        y_test, y_pred, output_dict=True)\n",
    "\n",
    "    return [\n",
    "        resultados[\"accuracy\"],\n",
    "        resultados[\"macro avg\"][\"precision\"],\n",
    "        resultados[\"macro avg\"][\"recall\"],\n",
    "        resultados[\"macro avg\"][\"f1-score\"],\n",
    "    ]"
   ]
  },
  {
   "cell_type": "code",
   "execution_count": 70,
   "metadata": {},
   "outputs": [],
   "source": [
    "sistemas = [\n",
    "    \"KNeighborsClassifier\",\n",
    "    \"GaussianNB\",\n",
    "    \"DecisionTreeClassifier\",\n",
    "    \"RandomForestClassifier\",\n",
    "    \"AdaBoostClassifier\",\n",
    "    \"SVC\",\n",
    "    \"LinearSVC\",\n",
    "    \"LogisticRegression\",\n",
    "    \"ovo(rl)\",\n",
    "    \"ovo(svc)\",\n",
    "    \"ovr(rl)\",\n",
    "    \"ovr(svc)\"\n",
    "]\n",
    "\n",
    "resultados = np.empty((len(sistemas), 4))\n",
    "i = 0\n",
    "for sistema in sistemas:\n",
    "    resultados[i, :] = entrena_y_evalua(\n",
    "        X_train, X_test, y_train, y_test, sistema)\n",
    "    i += 1"
   ]
  },
  {
   "cell_type": "markdown",
   "metadata": {},
   "source": [
    "Leemos los resultados obtenidos para cada sistema.\n",
    "\n",
    "Podemos ver que el clasificador Random Forest (Bosques aleatorios), de tipo ensemble, es el que mejor precisión y puntuación F1 obtiene."
   ]
  },
  {
   "cell_type": "code",
   "execution_count": 71,
   "metadata": {},
   "outputs": [
    {
     "name": "stdout",
     "output_type": "stream",
     "text": [
      "                        Accuracy  Precision    Recall  F1-score\n",
      "KNeighborsClassifier    0.761905   0.764503  0.761887  0.761459\n",
      "GaussianNB              0.592857   0.594566  0.589460  0.578321\n",
      "DecisionTreeClassifier  0.688095   0.692750  0.686595  0.688060\n",
      "RandomForestClassifier  0.769048   0.774145  0.769618  0.770072\n",
      "AdaBoostClassifier      0.583333   0.573703  0.580058  0.571555\n",
      "SVC                     0.759524   0.762837  0.758043  0.758528\n",
      "LinearSVC               0.500000   0.446396  0.495856  0.439937\n",
      "LogisticRegression      0.509524   0.483415  0.505660  0.484458\n",
      "ovo(rl)                 0.530952   0.508266  0.526156  0.511366\n",
      "ovo(svc)                0.757143   0.760446  0.755718  0.756148\n",
      "ovr(rl)                 0.516667   0.481821  0.512565  0.478641\n",
      "ovr(svc)                0.742857   0.745552  0.742032  0.742779\n"
     ]
    }
   ],
   "source": [
    "df_resultados = pd.DataFrame(\n",
    "    resultados, index=sistemas, columns=[\n",
    "        \"Accuracy\", \"Precision\", \"Recall\", \"F1-score\"]\n",
    ")\n",
    "print(df_resultados)"
   ]
  },
  {
   "cell_type": "markdown",
   "metadata": {},
   "source": [
    "Se realiza una búsqueda de hiperparámetros para este clasificador."
   ]
  },
  {
   "cell_type": "code",
   "execution_count": 72,
   "metadata": {},
   "outputs": [
    {
     "name": "stdout",
     "output_type": "stream",
     "text": [
      "Fitting 10 folds for each of 60 candidates, totalling 600 fits\n",
      "Hiperparámetros:  [{'n_estimators': 60}, {'n_estimators': 61}, {'n_estimators': 62}, {'n_estimators': 63}, {'n_estimators': 64}, {'n_estimators': 65}, {'n_estimators': 66}, {'n_estimators': 67}, {'n_estimators': 68}, {'n_estimators': 69}, {'n_estimators': 70}, {'n_estimators': 71}, {'n_estimators': 72}, {'n_estimators': 73}, {'n_estimators': 74}, {'n_estimators': 75}, {'n_estimators': 76}, {'n_estimators': 77}, {'n_estimators': 78}, {'n_estimators': 79}, {'n_estimators': 80}, {'n_estimators': 81}, {'n_estimators': 82}, {'n_estimators': 83}, {'n_estimators': 84}, {'n_estimators': 85}, {'n_estimators': 86}, {'n_estimators': 87}, {'n_estimators': 88}, {'n_estimators': 89}, {'n_estimators': 90}, {'n_estimators': 91}, {'n_estimators': 92}, {'n_estimators': 93}, {'n_estimators': 94}, {'n_estimators': 95}, {'n_estimators': 96}, {'n_estimators': 97}, {'n_estimators': 98}, {'n_estimators': 99}, {'n_estimators': 100}, {'n_estimators': 101}, {'n_estimators': 102}, {'n_estimators': 103}, {'n_estimators': 104}, {'n_estimators': 105}, {'n_estimators': 106}, {'n_estimators': 107}, {'n_estimators': 108}, {'n_estimators': 109}, {'n_estimators': 110}, {'n_estimators': 111}, {'n_estimators': 112}, {'n_estimators': 113}, {'n_estimators': 114}, {'n_estimators': 115}, {'n_estimators': 116}, {'n_estimators': 117}, {'n_estimators': 118}, {'n_estimators': 119}]\n"
     ]
    }
   ],
   "source": [
    "n_estimators = range(60, 120)\n",
    "hyperparameters = dict(n_estimators=n_estimators)\n",
    "\n",
    "sys = RandomForestClassifier(n_jobs=-1, random_state=1234)\n",
    "\n",
    "folds = StratifiedKFold(n_splits=10, shuffle=True, random_state=1234)\n",
    "\n",
    "gs = GridSearchCV(\n",
    "    sys, hyperparameters, scoring=[\"accuracy\", \"f1_macro\"], cv=folds, verbose=3, refit=\"f1_macro\", n_jobs=-1\n",
    ")\n",
    "\n",
    "res_gs = gs.fit(X, y)\n",
    "\n",
    "print(\"Hiperparámetros: \", res_gs.cv_results_[\"params\"])"
   ]
  },
  {
   "cell_type": "code",
   "execution_count": 73,
   "metadata": {},
   "outputs": [
    {
     "name": "stdout",
     "output_type": "stream",
     "text": [
      "Mejor combinación de hiperparámetros:  {'n_estimators': 72}\n",
      "Mejor rendimiento obtenido: 0.7709\n"
     ]
    }
   ],
   "source": [
    "print(\"Mejor combinación de hiperparámetros: \", res_gs.best_params_)\n",
    "print(\"Mejor rendimiento obtenido: %0.4f\" % (res_gs.best_score_))"
   ]
  },
  {
   "cell_type": "code",
   "execution_count": 74,
   "metadata": {},
   "outputs": [
    {
     "name": "stdout",
     "output_type": "stream",
     "text": [
      "RandomForestClassifier(n_estimators=72, n_jobs=-1, random_state=1234)\n"
     ]
    }
   ],
   "source": [
    "# modelo entrenado\n",
    "best_model = res_gs.best_estimator_\n",
    "print(best_model)"
   ]
  },
  {
   "cell_type": "code",
   "execution_count": 75,
   "metadata": {},
   "outputs": [
    {
     "name": "stderr",
     "output_type": "stream",
     "text": [
      "[Parallel(n_jobs=1)]: Using backend SequentialBackend with 1 concurrent workers.\n"
     ]
    },
    {
     "name": "stdout",
     "output_type": "stream",
     "text": [
      "F1 macro (mean+-std): 0.7709 +- 0.0256\n"
     ]
    },
    {
     "name": "stderr",
     "output_type": "stream",
     "text": [
      "[Parallel(n_jobs=1)]: Done  10 out of  10 | elapsed:    1.2s finished\n"
     ]
    }
   ],
   "source": [
    "# se crea un generador de folds estratificados partiendo el conjunto en 10 trozos\n",
    "folds10 = StratifiedKFold(n_splits=10, shuffle=True, random_state=1234)\n",
    "\n",
    "# se realiza la validación cruzada para el RandomForest\n",
    "scores_rf = cross_val_score(best_model, X, y, cv=folds10, scoring=\"f1_macro\", verbose=1)\n",
    "print(\"F1 macro (mean+-std): %0.4f +- %0.4f\" % (scores_rf.mean(), scores_rf.std()))"
   ]
  },
  {
   "cell_type": "code",
   "execution_count": 76,
   "metadata": {},
   "outputs": [
    {
     "name": "stderr",
     "output_type": "stream",
     "text": [
      "[Parallel(n_jobs=1)]: Using backend SequentialBackend with 1 concurrent workers.\n"
     ]
    },
    {
     "name": "stdout",
     "output_type": "stream",
     "text": [
      "F1 macro (mean+-std): 0.7652 +- 0.0266\n"
     ]
    },
    {
     "name": "stderr",
     "output_type": "stream",
     "text": [
      "[Parallel(n_jobs=1)]: Done  10 out of  10 | elapsed:    1.4s finished\n"
     ]
    }
   ],
   "source": [
    "# Compare with the default one.\n",
    "folds10 = StratifiedKFold(n_splits=10, shuffle=True, random_state=1234)\n",
    "\n",
    "scores_rf = cross_val_score(RandomForestClassifier(n_jobs=-1, random_state=1234), X, y, cv=folds10, scoring=\"f1_macro\", verbose=1)\n",
    "print(\"F1 macro (mean+-std): %0.4f +- %0.4f\" % (scores_rf.mean(), scores_rf.std()))"
   ]
  },
  {
   "cell_type": "markdown",
   "metadata": {},
   "source": [
    "Finalmente, se utiliza el mejor modelo obtenido para predecir las clases de nuestro conjunto de test, y guardar los resultados."
   ]
  },
  {
   "cell_type": "code",
   "execution_count": 93,
   "metadata": {},
   "outputs": [],
   "source": [
    "y_pred = best_model.predict(df_test)\n",
    "y_pred = pd.DataFrame(y_pred, columns=[\"Predictions\"])\n",
    "y_pred.to_csv(\"results.csv\", header=True, index=False)"
   ]
  }
 ],
 "metadata": {
  "kernelspec": {
   "display_name": "Python 3.9.15 ('tf_gpu')",
   "language": "python",
   "name": "python3"
  },
  "language_info": {
   "codemirror_mode": {
    "name": "ipython",
    "version": 3
   },
   "file_extension": ".py",
   "mimetype": "text/x-python",
   "name": "python",
   "nbconvert_exporter": "python",
   "pygments_lexer": "ipython3",
   "version": "3.9.15"
  },
  "orig_nbformat": 4,
  "vscode": {
   "interpreter": {
    "hash": "73e357180c10748ca7d4f3a1ac37ad0bc94f0b7537594ff0b43acb32581eda9f"
   }
  }
 },
 "nbformat": 4,
 "nbformat_minor": 2
}
